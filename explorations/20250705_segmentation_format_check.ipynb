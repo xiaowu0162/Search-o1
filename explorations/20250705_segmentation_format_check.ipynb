{
 "cells": [
  {
   "cell_type": "code",
   "execution_count": 2,
   "id": "bbf5e24e-e2fa-41d8-90f9-bb9688c51932",
   "metadata": {},
   "outputs": [],
   "source": [
    "import os\n",
    "import json\n",
    "from tqdm import tqdm\n",
    "import torch\n",
    "import numpy as np\n",
    "from openai import OpenAI\n",
    "import backoff"
   ]
  },
  {
   "cell_type": "code",
   "execution_count": 3,
   "id": "9cb7eb8c-b891-4283-bfb5-490c08395844",
   "metadata": {},
   "outputs": [],
   "source": [
    "# load direct pred logs\n",
    "def load_direct_pred_logs(task):\n",
    "    if task == 'gpqa':\n",
    "        logs = json.load(open('/fsx-comem/diwu0162/Search-o1/outputs/runs.baselines/gpqa.ds-llama-70b.direct/diamond.7.5,20:30.json'))\n",
    "    elif task == 'aime':\n",
    "        logs = json.load(open('/fsx-comem/diwu0162/Search-o1/outputs/runs.baselines/aime.ds-llama-70b.direct/test.7.3,21:37.json'))\n",
    "    elif task == 'amc':\n",
    "        logs = json.load(open('/fsx-comem/diwu0162/Search-o1/outputs/runs.baselines/amc.ds-llama-70b.direct/test.7.3,21:23.json'))\n",
    "    elif task == 'math500':\n",
    "        logs = json.load(open('/fsx-comem/diwu0162/Search-o1/outputs/runs.baselines/math500.ds-llama-70b.direct/test.7.3,21:59.json'))\n",
    "    elif task == 'livecode':\n",
    "        logs = json.load(open('/fsx-comem/diwu0162/Search-o1/outputs/runs.baselines/livecode.ds-llama-70b.direct/test_1to4.7.3,22:24.json'))\n",
    "    elif task == 'bamboogle':\n",
    "        logs = json.load(open('/fsx-comem/diwu0162/Search-o1/outputs/runs.baselines/bamboogle.ds-llama-70b.direct/test.7.5,20:37.json'))\n",
    "    else:\n",
    "        raise NotImplementedError\n",
    "    return logs"
   ]
  },
  {
   "cell_type": "code",
   "execution_count": 11,
   "id": "9a616ee5-6161-4a47-889e-8c5ac42344b6",
   "metadata": {},
   "outputs": [],
   "source": [
    "# Thought segmentation\n",
    "\n",
    "def segment_thoughts_v1(x):\n",
    "    return x.strip().split('\\n\\n')\n",
    "\n",
    "def segment_thoughts_v2(x):\n",
    "    # note: excluding things like \"so\" \"therefore\", \"but\", \"let me\" \n",
    "    reasoning_word_list = [\n",
    "        'okay', 'hmm', 'wait', 'but wait', 'oh wait', 'no wait', 'no, wait', 'but let me', 'but actually', 'alternatively', \n",
    "        'now', 'the question', 'ah', 'oh', 'next', 'another angle', 'another approach', 'also', 'hold on', 'looking it up', \n",
    "        'another point', 'I don\\'t think', 'perhaps I', 'putting this together', 'Putting it all together', 'i\\'m', 'but i\\'m',   \n",
    "        'let me think again', 'I don\\'t see', 'maybe I', 'alternative', \"I wonder if\", \"another way\", 'an alternative', \n",
    "    ]\n",
    "    prefix_len = max([len(x) for x in reasoning_word_list])\n",
    "    newline_segmented_thoughts = segment_thoughts_v1(x)\n",
    "    final_thoughts = []\n",
    "    for t in newline_segmented_thoughts:\n",
    "        t_lower = t.lower()\n",
    "        is_segment_start = False\n",
    "        for r_w in reasoning_word_list:\n",
    "            if t_lower.startswith(r_w.lower()):\n",
    "                is_segment_start = True\n",
    "                break\n",
    "        if is_segment_start or not final_thoughts:\n",
    "            final_thoughts.append(t)\n",
    "        else:\n",
    "            final_thoughts[-1] += '\\n\\n' + t\n",
    "    return final_thoughts\n",
    "\n",
    "def segment_thoughts_v3(x):\n",
    "    # maybe implement with a small auxiliary model?\n",
    "    return x\n",
    "\n",
    "def visualize_thoughts_v2(x):\n",
    "    print(json.dumps({f'Step {i+1}': t for i, t in enumerate(segment_thoughts_v2(x))}, indent=4))\n"
   ]
  },
  {
   "cell_type": "code",
   "execution_count": 17,
   "id": "14aa8de7-b10b-4fc9-93db-765f538d7851",
   "metadata": {},
   "outputs": [
    {
     "name": "stdout",
     "output_type": "stream",
     "text": [
      "Task: gpqa\n",
      "Loaded 198 examples: 138 correct and 60 wrong.\n",
      "112.0 44.0 36.0 62.0\n",
      "Task: aime\n",
      "Loaded 30 examples: 18 correct and 12 wrong.\n",
      "257.0 60.0 30.0 106.0\n",
      "Task: amc\n",
      "Loaded 40 examples: 39 correct and 1 wrong.\n",
      "122.0 23.0 23.0 13.0\n",
      "Task: math500\n",
      "Loaded 500 examples: 437 correct and 63 wrong.\n",
      "62.0 14.0 10.0 41.0\n",
      "Task: livecode\n",
      "Loaded 112 examples: 40 correct and 72 wrong.\n",
      "338.0 70.0 36.0 89.0\n",
      "Task: bamboogle\n",
      "Loaded 125 examples: 60 correct and 65 wrong.\n",
      "9.0 6.0 4.0 7.0\n"
     ]
    }
   ],
   "source": [
    "# analyses (direct prediction thought length)\n",
    "\n",
    "# for task in ['bamboogle']:\n",
    "for task in ['gpqa', 'aime', 'amc', 'math500', 'livecode', 'bamboogle']:\n",
    "\n",
    "    logs = load_direct_pred_logs(task)\n",
    "    print(f'Task: {task}')\n",
    "    # print(logs[0]['Metrics'])\n",
    "    # break\n",
    "    \n",
    "    if task in ['bamboogle']:\n",
    "        ids_correct = set([x['id'] for x in logs if x['Metrics']['em']])\n",
    "        ids_wrong = set([x['id'] for x in logs if not x['Metrics']['em']])\n",
    "        assert len(ids_correct) + len(ids_wrong) == len(logs)\n",
    "    elif task in ['livecode']:\n",
    "        ids_correct = set([x['id'] for x in logs if x['Metrics']['pass@1']])\n",
    "        ids_wrong = set([x['id'] for x in logs if not x['Metrics']['pass@1']])\n",
    "        assert len(ids_correct) + len(ids_wrong) == len(logs)\n",
    "    else:\n",
    "        ids_correct = set([x['id'] for x in logs if x['Metrics']['math_equal']])\n",
    "        ids_wrong = set([x['id'] for x in logs if not x['Metrics']['math_equal']])\n",
    "        assert len(ids_correct) + len(ids_wrong) == len(logs)\n",
    "    print(f'Loaded {len(logs)} examples: {len(ids_correct)} correct and {len(ids_wrong)} wrong.')\n",
    "    \n",
    "    n_steps_v1, n_steps_v2, n_steps_v2_correct, n_steps_v2_wrong = [], [], [], []\n",
    "    for i, entry in enumerate(logs):\n",
    "        # if entry['id'] not in ids_wrong:\n",
    "        #     continue\n",
    "        \n",
    "        thoughts = entry['Output'].split('</think>')[0]\n",
    "        thoughts_segmented_v1 = segment_thoughts_v1(thoughts)\n",
    "        n_steps_v1.append(len(thoughts_segmented_v1))\n",
    "    \n",
    "        thoughts_segmented_v2 = segment_thoughts_v2(thoughts)\n",
    "        n_steps_v2.append(len(thoughts_segmented_v2))\n",
    "\n",
    "        if entry['id'] in ids_wrong:\n",
    "            n_steps_v2_wrong.append(len(thoughts_segmented_v2))\n",
    "        else:\n",
    "            n_steps_v2_correct.append(len(thoughts_segmented_v2))\n",
    "\n",
    "        # if i < 10:\n",
    "        #     for t in thoughts_segmented_v2:\n",
    "        #         if t.count('\\n\\n') > 1:\n",
    "        #             print('\\n===================================================\\n')\n",
    "        #             print(t)\n",
    "        #     # break\n",
    "\n",
    "    print(round(np.mean(n_steps_v1), 0), round(np.mean(n_steps_v2), 0), round(np.mean(n_steps_v2_correct), 0), round(np.mean(n_steps_v2_wrong), 0))"
   ]
  },
  {
   "cell_type": "code",
   "execution_count": null,
   "id": "43efb2ed-1a06-4dba-b05c-61c5a52a6c86",
   "metadata": {},
   "outputs": [],
   "source": []
  },
  {
   "cell_type": "code",
   "execution_count": null,
   "id": "0bd95c8f-eb98-4169-a7c1-e314910703cb",
   "metadata": {},
   "outputs": [],
   "source": []
  },
  {
   "cell_type": "code",
   "execution_count": null,
   "id": "f50b8397-97fb-4037-abcf-8088528a9c8a",
   "metadata": {},
   "outputs": [],
   "source": []
  },
  {
   "cell_type": "code",
   "execution_count": 19,
   "id": "5fa99581-b06a-4111-88ec-062dd75c3e40",
   "metadata": {},
   "outputs": [],
   "source": [
    "# check openthoughts3 as well\n",
    "\n",
    "data_path = '/fsx-comem/diwu0162/OpenThoughts3/data/train_sample_1k.jsonl'\n",
    "data = [json.loads(line) for line in open(data_path).readlines()]"
   ]
  },
  {
   "cell_type": "code",
   "execution_count": 33,
   "id": "26bc0411-87e8-4f82-be2b-ee8117637d0b",
   "metadata": {},
   "outputs": [
    {
     "name": "stdout",
     "output_type": "stream",
     "text": [
      "572.0 128.0\n"
     ]
    }
   ],
   "source": [
    "\n",
    "n_steps_v1, n_steps_v2 = [], []\n",
    "for i, entry in enumerate(data):\n",
    "    thoughts = entry['conversations'][-1]['value'].split('</think>')[0].lstrip('<think>').strip()\n",
    "    thoughts_segmented_v1 = segment_thoughts_v1(thoughts)\n",
    "    n_steps_v1.append(len(thoughts_segmented_v1))\n",
    "\n",
    "    thoughts_segmented_v2 = segment_thoughts_v2(thoughts)\n",
    "    n_steps_v2.append(len(thoughts_segmented_v2))\n",
    "\n",
    "    # if i >= 0 and i < 10:\n",
    "    #     for t in thoughts_segmented_v2:\n",
    "    #         if t.count('\\n\\n') > 1:\n",
    "    #             print('\\n===================================================\\n')\n",
    "    #             print(t)\n",
    "    #     # break\n",
    "    \n",
    "print(round(np.mean(n_steps_v1), 0), round(np.mean(n_steps_v2), 0))\n"
   ]
  },
  {
   "cell_type": "code",
   "execution_count": 35,
   "id": "ec7e6d19-95d3-43f2-a6a5-21ade0bb51a9",
   "metadata": {},
   "outputs": [
    {
     "data": {
      "text/plain": [
       "Counter({'math': 692, 'code': 229, 'science': 79})"
      ]
     },
     "execution_count": 35,
     "metadata": {},
     "output_type": "execute_result"
    }
   ],
   "source": [
    "from collections import Counter\n",
    "Counter([x['domain'] for x in data])"
   ]
  },
  {
   "cell_type": "code",
   "execution_count": null,
   "id": "003662e8-34c9-4670-8048-eead6638d327",
   "metadata": {},
   "outputs": [],
   "source": []
  }
 ],
 "metadata": {
  "kernelspec": {
   "display_name": "Python 3 (ipykernel)",
   "language": "python",
   "name": "python3"
  },
  "language_info": {
   "codemirror_mode": {
    "name": "ipython",
    "version": 3
   },
   "file_extension": ".py",
   "mimetype": "text/x-python",
   "name": "python",
   "nbconvert_exporter": "python",
   "pygments_lexer": "ipython3",
   "version": "3.10.14"
  }
 },
 "nbformat": 4,
 "nbformat_minor": 5
}
