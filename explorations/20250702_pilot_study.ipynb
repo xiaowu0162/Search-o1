{
 "cells": [
  {
   "cell_type": "code",
   "execution_count": 1,
   "id": "70de9a30-660c-47db-89fb-b4cbab5d17f9",
   "metadata": {},
   "outputs": [],
   "source": [
    "import os\n",
    "import json\n",
    "from tqdm import tqdm\n",
    "import torch\n",
    "import numpy as np\n",
    "from openai import OpenAI\n",
    "import backoff"
   ]
  },
  {
   "cell_type": "code",
   "execution_count": 2,
   "id": "29654f8f-f546-43e0-89e9-7a5420fa1e15",
   "metadata": {},
   "outputs": [
    {
     "name": "stdout",
     "output_type": "stream",
     "text": [
      "SyncPage[Model](data=[Model(id='Qwen/QwQ-32B', created=1751487253, object='model', owned_by='vllm', root='Qwen/QwQ-32B', parent=None, max_model_len=40960, permission=[{'id': 'modelperm-3171155324c54aa6ae5ccbaed41161ff', 'object': 'model_permission', 'created': 1751487253, 'allow_create_engine': False, 'allow_sampling': True, 'allow_logprobs': True, 'allow_search_indices': False, 'allow_view': True, 'allow_fine_tuning': False, 'organization': '*', 'group': None, 'is_blocking': False}])], object='list')\n"
     ]
    }
   ],
   "source": [
    "port = 8001\n",
    "model = 'Qwen/QwQ-32B'\n",
    "\n",
    "OPENAI_REQUEST_TIMEOUT = 60*60*24 \n",
    "client = OpenAI(base_url=f\"http://localhost:{port}/v1\", api_key=\"EMPTY\", timeout=OPENAI_REQUEST_TIMEOUT)\n",
    "print(client.models.list())\n",
    "\n",
    "@backoff.on_exception(backoff.constant, Exception, interval=5)\n",
    "def run_chat_completion_with_backoff(client, **kwargs):\n",
    "    return client.chat.completions.create(**kwargs)\n",
    "\n",
    "\n",
    "@backoff.on_exception(backoff.constant, Exception, interval=5)\n",
    "def run_generate_with_backoff(client, **kwargs):\n",
    "    return client.completions.create(**kwargs)"
   ]
  },
  {
   "cell_type": "code",
   "execution_count": 59,
   "id": "8bd0dc48-82d2-4008-905b-94c24a9c7d72",
   "metadata": {},
   "outputs": [
    {
     "name": "stdout",
     "output_type": "stream",
     "text": [
      "Task: gpqa\n",
      "Loaded 198 examples: 126 correct and 72 wrong.\n",
      "68.46\n",
      "Task: aime\n",
      "Loaded 30 examples: 26 correct and 4 wrong.\n",
      "147.25\n",
      "Task: amc\n",
      "Loaded 40 examples: 40 correct and 0 wrong.\n",
      "nan\n",
      "Task: math500\n",
      "Loaded 500 examples: 457 correct and 43 wrong.\n",
      "45.47\n",
      "Task: livecode\n",
      "Loaded 112 examples: 51 correct and 61 wrong.\n",
      "113.85\n",
      "Task: bamboogle\n",
      "Loaded 125 examples: 60 correct and 65 wrong.\n",
      "13.08\n"
     ]
    }
   ],
   "source": [
    "# analyses (direct prediction without any search)\n",
    "\n",
    "\n",
    "# for task in ['bamboogle']:\n",
    "for task in ['gpqa', 'aime', 'amc', 'math500', 'livecode', 'bamboogle']:\n",
    "    if task == 'gpqa':\n",
    "        logs = json.load(open('/fsx-comem/diwu0162/Search-o1/outputs/gpqa.qwq.direct/diamond.7.1,20:8.json'))\n",
    "    elif task == 'aime':\n",
    "        logs = json.load(open('/fsx-comem/diwu0162/Search-o1/outputs/aime.qwq.direct/test.7.1,19:42.json'))\n",
    "    elif task == 'amc':\n",
    "        logs = json.load(open('/fsx-comem/diwu0162/Search-o1/outputs/amc.qwq.direct/test.7.1,19:24.json'))\n",
    "    elif task == 'math500':\n",
    "        logs = json.load(open('/fsx-comem/diwu0162/Search-o1/outputs/math500.qwq.direct/test.7.1,20:17.json'))\n",
    "    elif task == 'livecode':\n",
    "        logs = json.load(open('/fsx-comem/diwu0162/Search-o1/outputs/livecode.qwq.direct/test_1to4.7.1,22:30.json'))\n",
    "    elif task == 'bamboogle':\n",
    "        logs = json.load(open('/fsx-comem/diwu0162/Search-o1/outputs/runs.qa/bamboogle.qwq.direct/test.7.1,16:22.json'))\n",
    "    else:\n",
    "        raise NotImplementedError\n",
    "    \n",
    "    print(f'Task: {task}')\n",
    "    # print(logs[0]['Metrics'])\n",
    "    # break\n",
    "    \n",
    "    if task in ['bamboogle']:\n",
    "        ids_correct = set([x['id'] for x in logs if x['Metrics']['em']])\n",
    "        ids_wrong = set([x['id'] for x in logs if not x['Metrics']['em']])\n",
    "        assert len(ids_correct) + len(ids_wrong) == len(logs)\n",
    "    elif task in ['livecode']:\n",
    "        ids_correct = set([x['id'] for x in logs if x['Metrics']['pass@1']])\n",
    "        ids_wrong = set([x['id'] for x in logs if not x['Metrics']['pass@1']])\n",
    "        assert len(ids_correct) + len(ids_wrong) == len(logs)\n",
    "    else:\n",
    "        ids_correct = set([x['id'] for x in logs if x['Metrics']['math_equal']])\n",
    "        ids_wrong = set([x['id'] for x in logs if not x['Metrics']['math_equal']])\n",
    "        assert len(ids_correct) + len(ids_wrong) == len(logs)\n",
    "    print(f'Loaded {len(logs)} examples: {len(ids_correct)} correct and {len(ids_wrong)} wrong.')\n",
    "    \n",
    "    \n",
    "    \n",
    "    n_steps_v1, n_steps_v2 = [], []\n",
    "    for i, entry in enumerate(logs):\n",
    "        if entry['id'] not in ids_wrong:\n",
    "            continue\n",
    "        \n",
    "        thoughts = entry['Output'].split('</think>')[0]\n",
    "        thoughts_segmented_v1 = segment_thoughts_v1(thoughts)\n",
    "        n_steps_v1.append(len(thoughts_segmented_v1))\n",
    "    \n",
    "        thoughts_segmented_v2 = segment_thoughts_v2(thoughts)\n",
    "        n_steps_v2.append(len(thoughts_segmented_v2))\n",
    "\n",
    "        # if i == 9:\n",
    "        #     for t in thoughts_segmented_v2:\n",
    "        #         # if t.count('\\n\\n') > 1:\n",
    "        #         print('\\n===================================================\\n')\n",
    "        #         print(t)\n",
    "        #     # break\n",
    "\n",
    "    print(round(np.mean(n_steps_v2), 2))"
   ]
  },
  {
   "cell_type": "code",
   "execution_count": 50,
   "id": "9d284fd5-6342-4be1-88bb-88f762028d00",
   "metadata": {},
   "outputs": [
    {
     "name": "stdout",
     "output_type": "stream",
     "text": [
      "9.59\n"
     ]
    }
   ],
   "source": [
    "# experiment with thought segmentation\n",
    "\n",
    "def segment_thoughts_v1(x):\n",
    "    return x.strip().split('\\n\\n')\n",
    "\n",
    "def segment_thoughts_v2(x):\n",
    "    # note: excluding things like \"so\" \"therefore\", \"but\", \"let me\" \n",
    "    reasoning_word_list = [\n",
    "        'okay', 'hmm', 'wait', 'but wait', 'but let me', 'but actually', 'alternatively', 'now', 'the question',\n",
    "        'ah', 'next', 'another angle', 'another approach', 'also', 'hold on', 'looking it up', 'another point', \n",
    "        'I don\\'t think', 'perhaps I', 'putting this together', 'Putting it all together', 'i\\'m', 'but i\\'m',   \n",
    "        'let me think again', 'I don\\'t see'\n",
    "    ]\n",
    "    prefix_len = max([len(x) for x in reasoning_word_list])\n",
    "    newline_segmented_thoughts = segment_thoughts_v1(x)\n",
    "    final_thoughts = []\n",
    "    for t in newline_segmented_thoughts:\n",
    "        t_lower = t.lower()\n",
    "        is_segment_start = False\n",
    "        for r_w in reasoning_word_list:\n",
    "            if t_lower.startswith(r_w.lower()):\n",
    "                is_segment_start = True\n",
    "                break\n",
    "        if is_segment_start or not final_thoughts:\n",
    "            final_thoughts.append(t)\n",
    "        else:\n",
    "            final_thoughts[-1] += '\\n\\n' + t\n",
    "    return final_thoughts\n",
    "\n",
    "    \n",
    "\n",
    "\n"
   ]
  },
  {
   "cell_type": "code",
   "execution_count": null,
   "id": "6c00df0b-277b-4f4e-9579-ace16178b83f",
   "metadata": {
    "scrolled": true
   },
   "outputs": [],
   "source": []
  },
  {
   "cell_type": "code",
   "execution_count": null,
   "id": "9f32b1d3-bca3-4791-a995-36e4ed1bdb4d",
   "metadata": {},
   "outputs": [],
   "source": []
  },
  {
   "cell_type": "code",
   "execution_count": null,
   "id": "5bc9aa3f-b55b-44ea-84a3-e8d6c5fa1c63",
   "metadata": {},
   "outputs": [],
   "source": []
  },
  {
   "cell_type": "code",
   "execution_count": null,
   "id": "6602f806-dedc-48a5-8d96-7ba3fd9373f9",
   "metadata": {},
   "outputs": [],
   "source": []
  }
 ],
 "metadata": {
  "kernelspec": {
   "display_name": "Python 3 (ipykernel)",
   "language": "python",
   "name": "python3"
  },
  "language_info": {
   "codemirror_mode": {
    "name": "ipython",
    "version": 3
   },
   "file_extension": ".py",
   "mimetype": "text/x-python",
   "name": "python",
   "nbconvert_exporter": "python",
   "pygments_lexer": "ipython3",
   "version": "3.10.14"
  }
 },
 "nbformat": 4,
 "nbformat_minor": 5
}
