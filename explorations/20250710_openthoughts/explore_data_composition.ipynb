{
 "cells": [
  {
   "cell_type": "code",
   "execution_count": 1,
   "id": "2bfb3923-de8a-4b2a-964a-b2dd9cd71418",
   "metadata": {},
   "outputs": [],
   "source": [
    "import re\n",
    "import os\n",
    "import json\n",
    "import string\n",
    "from tqdm import tqdm\n",
    "import torch\n",
    "import numpy as np\n",
    "from openai import OpenAI\n",
    "from collections import Counter\n",
    "import backoff"
   ]
  },
  {
   "cell_type": "code",
   "execution_count": 9,
   "id": "42114d4b-86c5-4a50-93b4-f799e534e82c",
   "metadata": {},
   "outputs": [
    {
     "name": "stdout",
     "output_type": "stream",
     "text": [
      "Counter({'ai2-adapt-dev/openmath-2-math': 84928})\n",
      "Counter({2: 84928})\n",
      "Counter({'nvidia/OpenCodeReasoning': 12717, 'stackexchange_codegolf': 12504})\n",
      "Counter({2: 25221})\n",
      "Counter({'organic-chemistry-questions': 5880, 'stackexchange-physics': 3971})\n",
      "Counter({2: 9851})\n"
     ]
    }
   ],
   "source": [
    "data_dir = '/fsx-comem/diwu0162/OpenThoughts3/data/'\n",
    "data_file = f'{data_dir}/train_sample_120k.jsonl'\n",
    "all_data = [json.loads(line) for line in open(data_file).readlines()]\n"
   ]
  },
  {
   "cell_type": "code",
   "execution_count": 16,
   "id": "c6e6fd72-4def-46d8-ba34-e3c5fa2b1016",
   "metadata": {},
   "outputs": [
    {
     "name": "stdout",
     "output_type": "stream",
     "text": [
      "Counter({'ai2-adapt-dev/openmath-2-math': 84928})\n",
      "Has complete thinking: Counter({0: 57426, 1: 27502})\n",
      "Counter({'nvidia/OpenCodeReasoning': 12717, 'stackexchange_codegolf': 12504})\n",
      "Has complete thinking: Counter({0: 15874, 1: 9347})\n",
      "Counter({'organic-chemistry-questions': 5880, 'stackexchange-physics': 3971})\n",
      "Has complete thinking: Counter({1: 8710, 0: 1141})\n"
     ]
    }
   ],
   "source": [
    "\n",
    "for domain in ['math', 'code', 'science']:\n",
    "    # data_file = f'{data_dir}/train_sample_{domain}_1k.jsonl'\n",
    "    # domain_data = [json.loads(line) for line in open(data_file).readlines()]\n",
    "    domain_data = [x for x in all_data if x['domain'] == domain]\n",
    "    print(Counter([x['source'] for x in domain_data]))\n",
    "    # print(Counter([len(x['conversations']) for x in domain_data]))\n",
    "    print('Has complete thinking:', Counter([1 if '</think>' in x['conversations'][-1]['value'] else 0 for x in domain_data]))"
   ]
  },
  {
   "cell_type": "code",
   "execution_count": 12,
   "id": "6e887da2-8ebf-437b-871d-b609d6b5bf79",
   "metadata": {},
   "outputs": [
    {
     "data": {
      "text/plain": [
       "0.033091666666666665"
      ]
     },
     "execution_count": 12,
     "metadata": {},
     "output_type": "execute_result"
    }
   ],
   "source": []
  },
  {
   "cell_type": "code",
   "execution_count": null,
   "id": "c204d7f9-9b64-452a-85af-6ba2bdde26b3",
   "metadata": {},
   "outputs": [],
   "source": []
  },
  {
   "cell_type": "code",
   "execution_count": null,
   "id": "baf8574d-97b8-4f8b-8c0a-8dd6bb891321",
   "metadata": {},
   "outputs": [],
   "source": []
  },
  {
   "cell_type": "code",
   "execution_count": null,
   "id": "489715fa-075d-4d94-962d-2f3f519b4722",
   "metadata": {},
   "outputs": [],
   "source": []
  },
  {
   "cell_type": "code",
   "execution_count": null,
   "id": "366231f6-a879-4ce5-b729-19917b25571e",
   "metadata": {},
   "outputs": [],
   "source": []
  }
 ],
 "metadata": {
  "kernelspec": {
   "display_name": "Python 3 (ipykernel)",
   "language": "python",
   "name": "python3"
  },
  "language_info": {
   "codemirror_mode": {
    "name": "ipython",
    "version": 3
   },
   "file_extension": ".py",
   "mimetype": "text/x-python",
   "name": "python",
   "nbconvert_exporter": "python",
   "pygments_lexer": "ipython3",
   "version": "3.10.14"
  }
 },
 "nbformat": 4,
 "nbformat_minor": 5
}
