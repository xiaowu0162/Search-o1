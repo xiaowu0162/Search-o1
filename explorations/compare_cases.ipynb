{
 "cells": [
  {
   "cell_type": "code",
   "execution_count": 6,
   "id": "60e2cd87-8851-4963-b7b3-435ce23ffddd",
   "metadata": {},
   "outputs": [],
   "source": [
    "import os\n",
    "import json\n",
    "from tqdm import tqdm\n",
    "import torch\n",
    "import numpy as np\n",
    "from openai import OpenAI\n",
    "import backoff"
   ]
  },
  {
   "cell_type": "code",
   "execution_count": 3,
   "id": "8e386c09-6a4a-4b32-850f-7f10c506cc42",
   "metadata": {},
   "outputs": [
    {
     "name": "stdout",
     "output_type": "stream",
     "text": [
      "SyncPage[Model](data=[Model(id='Qwen/QwQ-32B', created=1751909088, object='model', owned_by='vllm', root='Qwen/QwQ-32B', parent=None, max_model_len=40960, permission=[{'id': 'modelperm-b03021f5449e45e2baaa9140edbbc1d3', 'object': 'model_permission', 'created': 1751909088, 'allow_create_engine': False, 'allow_sampling': True, 'allow_logprobs': True, 'allow_search_indices': False, 'allow_view': True, 'allow_fine_tuning': False, 'organization': '*', 'group': None, 'is_blocking': False}])], object='list')\n"
     ]
    }
   ],
   "source": [
    "port = 8002\n",
    "model = 'Qwen/QwQ-32B'\n",
    "\n",
    "OPENAI_REQUEST_TIMEOUT = 60*60*24 \n",
    "client = OpenAI(base_url=f\"http://localhost:{port}/v1\", api_key=\"EMPTY\", timeout=OPENAI_REQUEST_TIMEOUT)\n",
    "print(client.models.list())\n",
    "\n",
    "# @backoff.on_exception(backoff.constant, Exception, interval=5)\n",
    "def run_chat_completion_with_backoff(client, **kwargs):\n",
    "    return client.chat.completions.create(**kwargs)\n",
    "\n",
    "\n",
    "@backoff.on_exception(backoff.constant, Exception, interval=5)\n",
    "def run_generate_with_backoff(client, **kwargs):\n",
    "    return client.completions.create(**kwargs)"
   ]
  },
  {
   "cell_type": "code",
   "execution_count": 4,
   "id": "97fd45b8-0e68-47f6-b448-4e7e6fbaee2a",
   "metadata": {},
   "outputs": [],
   "source": [
    "# gpqa\n",
    "logs_direct_pred = json.load(open('/fsx-comem/diwu0162/Search-o1/outputs/runs.analysis/gpqa.qwq.search_o1.10.10/diamond.7.2,20:28.json'))\n",
    "logs_search_o1 = json.load(open('/fsx-comem/diwu0162/WebThinker/outputs/runs.analysis/gpqa.qwq.search_o1.10.10/diamond.7.7,2:19.filtered.json'))\n",
    "logs_webthinker = json.load(open('/fsx-comem/diwu0162/WebThinker/outputs/gpqa.qwq.webthinker/diamond.7.7,2:26.92.filtered.json'))\n",
    "assert len(logs_direct_pred) == len(logs_search_o1) == len(logs_webthinker)"
   ]
  },
  {
   "cell_type": "code",
   "execution_count": 5,
   "id": "40507296-992d-4dce-926d-761bc78953f9",
   "metadata": {},
   "outputs": [
    {
     "data": {
      "text/plain": [
       "'<|im_start|>user\\nYou are a reasoning assistant with the ability to perform web searches to help you answer the user\\'s question accurately. You have special tools:\\n\\n- To perform a search: write <|begin_search_query|> your query here <|end_search_query|>.\\nThen, the system will search and analyze relevant web pages, then provide you with helpful information in the format <|begin_search_result|> ...search results... <|end_search_result|>.\\n\\nYou can repeat the search process multiple times if necessary. The maximum number of search attempts is limited to 10.\\n\\nOnce you have all the information you need, continue your reasoning.\\n\\nExample:\\nQuestion: \"What is the energy range of pp III neutrinos?\"\\nAssistant thinking steps:\\n- I might need to look up details about pp III neutrinos.\\n\\nAssistant:\\n<|begin_search_query|>pp III neutrino energy spectrum<|end_search_query|>\\n\\n(System returns processed information from relevant web pages)\\n\\nAssistant continues reasoning with the new information...\\n\\nRemember:\\n- Use <|begin_search_query|> to request a web search and end with <|end_search_query|>.\\n- When done searching, continue your reasoning.\\n\\nPlease answer the following multiple-choice question. You should provide your final choice in the format \\\\boxed{YOUR_CHOICE}.\\n\\nQuestion:\\nTwo quantum states with energies E1 and E2 have a lifetime of 10^-9 sec and 10^-8 sec, respectively. We want to clearly distinguish these two energy levels. Which one of the following options could be their energy difference so that they can be clearly resolved?\\n Choices:\\n(A) 10^-11 eV\\n(B) 10^-9 eV\\n(C) 10^-4 eV\\n(D) 10^-8 eV\\n\\n\\n\\n<|im_end|>\\n<|im_start|>assistant\\n<think>\\n'"
      ]
     },
     "execution_count": 5,
     "metadata": {},
     "output_type": "execute_result"
    }
   ],
   "source": [
    "# logs_direct_pred[0]['Question']\n",
    "# logs_search_o1[1]['Question']\n",
    "# logs_webthinker[5]['Question']\n",
    "logs_direct_pred[0]['Question']"
   ]
  },
  {
   "cell_type": "code",
   "execution_count": null,
   "id": "79c10027-286d-4b61-b26d-9e569d77a63f",
   "metadata": {},
   "outputs": [],
   "source": []
  },
  {
   "cell_type": "code",
   "execution_count": null,
   "id": "d88b5029-647f-4a83-b0de-5ab7590d55a4",
   "metadata": {},
   "outputs": [],
   "source": []
  },
  {
   "cell_type": "code",
   "execution_count": null,
   "id": "d91767e9-292c-4f6a-a4ab-201787cab3c1",
   "metadata": {},
   "outputs": [],
   "source": []
  },
  {
   "cell_type": "code",
   "execution_count": null,
   "id": "12bbe485-74c3-47f0-9b3c-c65692acf873",
   "metadata": {},
   "outputs": [],
   "source": []
  }
 ],
 "metadata": {
  "kernelspec": {
   "display_name": "Python 3 (ipykernel)",
   "language": "python",
   "name": "python3"
  },
  "language_info": {
   "codemirror_mode": {
    "name": "ipython",
    "version": 3
   },
   "file_extension": ".py",
   "mimetype": "text/x-python",
   "name": "python",
   "nbconvert_exporter": "python",
   "pygments_lexer": "ipython3",
   "version": "3.10.14"
  }
 },
 "nbformat": 4,
 "nbformat_minor": 5
}
